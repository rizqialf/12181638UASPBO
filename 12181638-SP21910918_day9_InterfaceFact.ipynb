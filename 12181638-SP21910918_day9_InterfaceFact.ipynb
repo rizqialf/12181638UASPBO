{
 "cells": [
  {
   "cell_type": "code",
   "execution_count": 72,
   "metadata": {},
   "outputs": [
    {
     "data": {
      "text/plain": [
       "com.twosigma.beaker.javash.bkr3ddaedd7.Kemampuan"
      ]
     },
     "execution_count": 72,
     "metadata": {},
     "output_type": "execute_result"
    }
   ],
   "source": [
    "public interface Kemampuan {\n",
    "   void doMove();\n",
    "}"
   ]
  },
  {
   "cell_type": "code",
   "execution_count": 73,
   "metadata": {},
   "outputs": [
    {
     "data": {
      "text/plain": [
       "com.twosigma.beaker.javash.bkr3ddaedd7.BurungBetet"
      ]
     },
     "execution_count": 73,
     "metadata": {},
     "output_type": "execute_result"
    }
   ],
   "source": [
    "public class BurungBetet implements Kemampuan {\n",
    "\n",
    "   @Override\n",
    "   public void doMove() {\n",
    "      System.out.println(\"Terbang Kemampuan::BurungBetet() method.\");\n",
    "   }\n",
    "}\n",
    "\n"
   ]
  },
  {
   "cell_type": "code",
   "execution_count": 74,
   "metadata": {},
   "outputs": [
    {
     "data": {
      "text/plain": [
       "com.twosigma.beaker.javash.bkr3ddaedd7.KemampuanFactory"
      ]
     },
     "execution_count": 74,
     "metadata": {},
     "output_type": "execute_result"
    }
   ],
   "source": [
    "public class KemampuanFactory {\n",
    "\t\n",
    "   //use getShape method to get object of type shape \n",
    "   public Kemampuan getKemampuan(String typeKemampuan){\n",
    "      if(typeKemampuan == null){\n",
    "         return null;\n",
    "      }\t\t\n",
    "      if(typeKemampuan.equalsIgnoreCase(\"BURUNG\")){\n",
    "         return new BurungBetet();\n",
    "         \n",
    "      } \n",
    "\n",
    "      return null;\n",
    "   }\n",
    "}"
   ]
  },
  {
   "cell_type": "code",
   "execution_count": 75,
   "metadata": {},
   "outputs": [
    {
     "ename": "cannot find symbol",
     "evalue": "cannot find symbol",
     "output_type": "error",
     "traceback": [
      "\u001b[1;31mcannot find symbol\u001b[0;0m",
      "\u001b[1;31m  symbol:   method typeKemampuan(java.lang.String)\u001b[0;0m",
      "\u001b[0;31m  location: class com.twosigma.beaker.javash.bkr3ddaedd7.KemampuanFactory\u001b[0;0m",
      "\u001b[0;31m Kemampuan BurungBetet = KemampuanFactory.typeKemampuan(\"BURUNG\")\u001b[0;0m",
      "\u001b[0;31m                         ^                             ^           \u001b[0;0m"
     ]
    }
   ],
   "source": [
    "\n",
    "      //get an object of IkanKoi and call its doMove method.\n",
    "      Kemampuan BurungBetet = KemampuanFactory.typeKemampuan(\"BURUNG\");\n",
    "\n",
    "      //call draw method of Ikan\n",
    "      BurungBetet.doMove();\n"
   ]
  },
  {
   "cell_type": "code",
   "execution_count": null,
   "metadata": {},
   "outputs": [],
   "source": []
  }
 ],
 "metadata": {
  "kernelspec": {
   "display_name": "Java",
   "language": "java",
   "name": "java"
  },
  "language_info": {
   "codemirror_mode": "text/x-java",
   "file_extension": ".java",
   "mimetype": "",
   "name": "Java",
   "nbconverter_exporter": "",
   "version": "1.8.0_121"
  },
  "toc": {
   "base_numbering": 1,
   "nav_menu": {},
   "number_sections": false,
   "sideBar": false,
   "skip_h1_title": false,
   "title_cell": "Table of Contents",
   "title_sidebar": "Contents",
   "toc_cell": false,
   "toc_position": {},
   "toc_section_display": false,
   "toc_window_display": false
  }
 },
 "nbformat": 4,
 "nbformat_minor": 4
}
