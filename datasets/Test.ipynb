{
 "cells": [
  {
   "cell_type": "markdown",
   "metadata": {},
   "source": [
    "> **Requirement**: Load semua library dengan statment berikut :"
   ]
  },
  {
   "cell_type": "code",
   "execution_count": null,
   "metadata": {},
   "outputs": [],
   "source": [
    "%classpath add jar libs/*"
   ]
  },
  {
   "cell_type": "code",
   "execution_count": 3,
   "metadata": {},
   "outputs": [
    {
     "data": {
      "application/vnd.jupyter.widget-view+json": {
       "model_id": "",
       "version_major": 2,
       "version_minor": 0
      },
      "method": "display_data"
     },
     "metadata": {},
     "output_type": "display_data"
    },
    {
     "data": {
      "application/vnd.jupyter.widget-view+json": {
       "model_id": "57e01e93-a7df-419c-9b90-342a422ee466",
       "version_major": 2,
       "version_minor": 0
      },
      "method": "display_data"
     },
     "metadata": {},
     "output_type": "display_data"
    }
   ],
   "source": [
    "%%classpath add mvn\n",
    "tech.tablesaw tablesaw-jsplot 0.37.0"
   ]
  },
  {
   "cell_type": "code",
   "execution_count": 5,
   "metadata": {},
   "outputs": [
    {
     "ename": "package tech.tablesaw.beakerx does not exist",
     "evalue": "package tech.tablesaw.beakerx does not exist",
     "output_type": "error",
     "traceback": [
      "\u001b[1;31mpackage tech.tablesaw.beakerx does not exist\u001b[0;0m",
      "\u001b[1;31m tech.tablesaw.beakerx.TablesawDisplayer.register()\u001b[0;0m",
      "\u001b[1;31m ^                                      ^            \u001b[0;0m"
     ]
    }
   ],
   "source": [
    "//import data 12181638.csv ke dataframe\n",
    "\n",
    "import tech.tablesaw.api.*;\n",
    "\n",
    "tech.tablesaw.beakerx.TablesawDisplayer.register();\n",
    "Table  dfSmallgrade= Table.read().csv(\"datasets/12181638.csv\");\n",
    "System.out.println(dfSmallgrade.structure());\n",
    "System.out.println(dfSmallgrade.shape());\n",
    "System.out.println(dfSmallgrade.first(5));\n",
    "System.out.println(dfSmallgrade.last(5));\n",
    "System.out.println(dfSmallgrade.print());"
   ]
  },
  {
   "cell_type": "code",
   "execution_count": 6,
   "metadata": {},
   "outputs": [
    {
     "ename": "package tech.tablesaw.io.json does not exist",
     "evalue": "package tech.tablesaw.io.json does not exist",
     "output_type": "error",
     "traceback": [
      "\u001b[1;31mpackage tech.tablesaw.io.json does not exist\u001b[0;0m",
      "\u001b[1;31m import tech.tablesaw.io.json.*\u001b[0;0m",
      "\u001b[1;31m ^                              \u001b[0;0m",
      "\u001b[1;31m\u001b[0;0m",
      "\u001b[1;31mpackage tech.tablesaw.beakerx does not exist\u001b[0;0m",
      "\u001b[1;31m tech.tablesaw.beakerx.TablesawDisplayer.register()\u001b[0;0m",
      "\u001b[1;31m ^                                      ^            \u001b[0;0m",
      "\u001b[1;31m\u001b[0;0m",
      "\u001b[1;31mcannot find symbol\u001b[0;0m",
      "\u001b[1;31m  symbol:   class JsonReader\u001b[0;0m",
      "\u001b[0;31m  location: class com.twosigma.beaker.javash.bkrd2eddbae.BeakerWrapperClass1261714175Id1f37824135d64a32bbef4e2560064299\u001b[0;0m",
      "\u001b[0;31m JsonReader reader = new JsonReader()\u001b[0;0m",
      "\u001b[0;31m ^         ^                           \u001b[0;0m",
      "\u001b[0;31m\u001b[0;0m",
      "\u001b[0;31mcannot find symbol\u001b[0;0m",
      "\u001b[0;31m  symbol:   class JsonReader\u001b[0;0m",
      "\u001b[0;31m  location: class com.twosigma.beaker.javash.bkrd2eddbae.BeakerWrapperClass1261714175Id1f37824135d64a32bbef4e2560064299\u001b[0;0m",
      "\u001b[0;31m JsonReader reader = new JsonReader()\u001b[0;0m",
      "\u001b[0;31m                         ^         ^   \u001b[0;0m",
      "\u001b[0;31m\u001b[0;0m",
      "\u001b[0;31mcannot find symbol\u001b[0;0m",
      "\u001b[0;31m  symbol:   class JsonReadOptions\u001b[0;0m",
      "\u001b[0;31m  location: class com.twosigma.beaker.javash.bkrd2eddbae.BeakerWrapperClass1261714175Id1f37824135d64a32bbef4e2560064299\u001b[0;0m",
      "\u001b[0;31m JsonReadOptions fileJSON = JsonReadOptions.bu\u001b[0;0m",
      "\u001b[0;31m ^              ^                               \u001b[0;0m",
      "\u001b[0;31m\u001b[0;0m",
      "\u001b[0;31mcannot find symbol\u001b[0;0m",
      "\u001b[0;31m  symbol:   variable JsonReadOptions\u001b[0;0m",
      "\u001b[0;31m  location: class com.twosigma.beaker.javash.bkrd2eddbae.BeakerWrapperClass1261714175Id1f37824135d64a32bbef4e2560064299\u001b[0;0m",
      "\u001b[0;31m JsonReadOptions fileJSON = JsonReadOptions.builder(\"datasets/12181638.js\u001b[0;0m",
      "\u001b[0;31m                            ^              ^                               \u001b[0;0m"
     ]
    }
   ],
   "source": [
    "//import data 12181638.json ke dataframe\n",
    "\n",
    "import tech.tablesaw.api.*;\n",
    "import tech.tablesaw.io.json.*;\n",
    "\n",
    "tech.tablesaw.beakerx.TablesawDisplayer.register();\n",
    "JsonReader reader = new JsonReader();\n",
    "JsonReadOptions fileJSON = JsonReadOptions.builder(\"datasets/12181638.json\").build();\n",
    "Table tabeljson = reader.read(fileJSON);\n",
    "System.out.println(tabeljson.structure());\n",
    "System.out.println(tabeljson.print());\n",
    "\n",
    "//export data 12181638.json ke lahandibakar.csv\n",
    "tabeljson.write().csv(\"datasets/data_kepuasan.csv\");"
   ]
  },
  {
   "cell_type": "code",
   "execution_count": 10,
   "metadata": {},
   "outputs": [
    {
     "name": "stdout",
     "output_type": "stream",
     "text": [
      "                                                                            12181641.csv                                                                             \r\n",
      " _id  |  idx  |             series             |  kode_wilayah  |           wilayah           |  tahun  |  triwulan  |  bulan  |  tanggal  |    nilai    |  target  |\r\n",
      "---------------------------------------------------------------------------------------------------------------------------------------------------------------------\r\n",
      "   1  |    0  |  Luas Lahan yang Dibakar (Ha)  |             1  |                  Indonesia  |   2008  |            |         |           |  1857348.3  |          |\r\n",
      "   2  |    1  |  Luas Lahan yang Dibakar (Ha)  |            11  |                       ACEH  |   2008  |            |         |           |    21402.1  |          |\r\n",
      "   3  |    2  |  Luas Lahan yang Dibakar (Ha)  |            12  |             SUMATERA UTARA  |   2008  |            |         |           |    15946.8  |          |\r\n",
      "   4  |    3  |  Luas Lahan yang Dibakar (Ha)  |            13  |             SUMATERA BARAT  |   2008  |            |         |           |     5601.2  |          |\r\n",
      "   5  |    4  |  Luas Lahan yang Dibakar (Ha)  |            14  |                       RIAU  |   2008  |            |         |           |    13729.2  |          |\r\n",
      "   6  |    5  |  Luas Lahan yang Dibakar (Ha)  |            15  |                      JAMBI  |   2008  |            |         |           |    11264.7  |          |\r\n",
      "   7  |    6  |  Luas Lahan yang Dibakar (Ha)  |            16  |           SUMATERA SELATAN  |   2008  |            |         |           |    39692.5  |          |\r\n",
      "   8  |    7  |  Luas Lahan yang Dibakar (Ha)  |            17  |                   BENGKULU  |   2008  |            |         |           |     7676.7  |          |\r\n",
      "   9  |    8  |  Luas Lahan yang Dibakar (Ha)  |            18  |                    LAMPUNG  |   2008  |            |         |           |    56679.1  |          |\r\n",
      "  10  |    9  |  Luas Lahan yang Dibakar (Ha)  |            19  |  KEPULAUAN BANGKA BELITUNG  |   2008  |            |         |           |     7790.3  |          |\r\n",
      " ...  |  ...  |                           ...  |           ...  |                        ...  |    ...  |       ...  |    ...  |      ...  |        ...  |     ...  |\r\n",
      " 380  |  379  |  Luas Lahan yang Dibakar (Ha)  |          6471  |            KOTA BALIKPAPAN  |   2008  |            |         |           |       37.6  |          |\r\n",
      " 381  |  380  |  Luas Lahan yang Dibakar (Ha)  |          6472  |             KOTA SAMARINDA  |   2008  |            |         |           |             |          |\r\n",
      " 382  |  381  |  Luas Lahan yang Dibakar (Ha)  |          6473  |               KOTA TARAKAN  |   2008  |            |         |           |       30.9  |          |\r\n",
      " 383  |  382  |  Luas Lahan yang Dibakar (Ha)  |          6474  |               KOTA BONTANG  |   2008  |            |         |           |             |          |\r\n",
      " 384  |  383  |  Luas Lahan yang Dibakar (Ha)  |          7101  |          BOLAANG MONGONDOW  |   2008  |            |         |           |     1413.2  |          |\r\n",
      " 385  |  384  |  Luas Lahan yang Dibakar (Ha)  |          7102  |                   MINAHASA  |   2008  |            |         |           |        154  |          |\r\n",
      " 386  |  385  |  Luas Lahan yang Dibakar (Ha)  |          7103  |          KEPULAUAN SANGIHE  |   2008  |            |         |           |      151.6  |          |\r\n",
      " 387  |  386  |  Luas Lahan yang Dibakar (Ha)  |          7104  |           KEPULAUAN TALAUD  |   2008  |            |         |           |      370.3  |          |\r\n",
      " 388  |  387  |  Luas Lahan yang Dibakar (Ha)  |          7105  |           MINAHASA SELATAN  |   2008  |            |         |           |      175.5  |          |\r\n",
      " 389  |  388  |  Luas Lahan yang Dibakar (Ha)  |          7106  |             MINAHASA UTARA  |   2008  |            |         |           |     1006.3  |          |"
     ]
    },
    {
     "data": {
      "text/plain": [
       "null"
      ]
     },
     "execution_count": 10,
     "metadata": {},
     "output_type": "execute_result"
    }
   ],
   "source": [
    "//soal no.1 menggabungkan data 12181641.csv dan 12181641.json\n",
    "\n",
    "import static tech.tablesaw.aggregate.AggregateFunctions.*;\n",
    "import tech.tablesaw.api.*;\n",
    "\n",
    "tech.tablesaw.beakerx.TablesawDisplayer.register();\n",
    "Table  data1= Table.read().csv(\"datasets/12181641.csv\");\n",
    "Table  data2= Table.read().csv(\"datasets/lahandibakar.csv\");\n",
    "\n",
    "Table datagabung = data1.append(data2);\n",
    "System.out.print(datagabung.print());\n",
    "\n",
    "//export dataframe datagabung ke fulllahandibakar.csv\n",
    "datagabung.write().csv(\"datasets/lahandibakarfull.csv\");\n",
    "\n"
   ]
  },
  {
   "cell_type": "code",
   "execution_count": 5,
   "metadata": {},
   "outputs": [
    {
     "name": "stdout",
     "output_type": "stream",
     "text": [
      "                                                                        lahandibakarfull.csv                                                                         \n",
      " _id  |  idx  |             series             |  kode_wilayah  |           wilayah           |  tahun  |  triwulan  |  bulan  |  tanggal  |    nilai    |  target  |\n",
      "---------------------------------------------------------------------------------------------------------------------------------------------------------------------\n",
      "   1  |    0  |  Luas Lahan yang Dibakar (Ha)  |             1  |                  Indonesia  |   2008  |            |         |           |  1857348.3  |          |\n",
      "   2  |    1  |  Luas Lahan yang Dibakar (Ha)  |            11  |                       ACEH  |   2008  |            |         |           |    21402.1  |          |\n",
      "   3  |    2  |  Luas Lahan yang Dibakar (Ha)  |            12  |             SUMATERA UTARA  |   2008  |            |         |           |    15946.8  |          |\n",
      "   4  |    3  |  Luas Lahan yang Dibakar (Ha)  |            13  |             SUMATERA BARAT  |   2008  |            |         |           |     5601.2  |          |\n",
      "   5  |    4  |  Luas Lahan yang Dibakar (Ha)  |            14  |                       RIAU  |   2008  |            |         |           |    13729.2  |          |\n",
      "   6  |    5  |  Luas Lahan yang Dibakar (Ha)  |            15  |                      JAMBI  |   2008  |            |         |           |    11264.7  |          |\n",
      "   7  |    6  |  Luas Lahan yang Dibakar (Ha)  |            16  |           SUMATERA SELATAN  |   2008  |            |         |           |    39692.5  |          |\n",
      "   8  |    7  |  Luas Lahan yang Dibakar (Ha)  |            17  |                   BENGKULU  |   2008  |            |         |           |     7676.7  |          |\n",
      "   9  |    8  |  Luas Lahan yang Dibakar (Ha)  |            18  |                    LAMPUNG  |   2008  |            |         |           |    56679.1  |          |\n",
      "  10  |    9  |  Luas Lahan yang Dibakar (Ha)  |            19  |  KEPULAUAN BANGKA BELITUNG  |   2008  |            |         |           |     7790.3  |          |\n",
      " ...  |  ...  |                           ...  |           ...  |                        ...  |    ...  |       ...  |    ...  |      ...  |        ...  |     ...  |\n",
      " 380  |  379  |  Luas Lahan yang Dibakar (Ha)  |          6471  |            KOTA BALIKPAPAN  |   2008  |            |         |           |       37.6  |          |\n",
      " 381  |  380  |  Luas Lahan yang Dibakar (Ha)  |          6472  |             KOTA SAMARINDA  |   2008  |            |         |           |             |          |\n",
      " 382  |  381  |  Luas Lahan yang Dibakar (Ha)  |          6473  |               KOTA TARAKAN  |   2008  |            |         |           |       30.9  |          |\n",
      " 383  |  382  |  Luas Lahan yang Dibakar (Ha)  |          6474  |               KOTA BONTANG  |   2008  |            |         |           |             |          |\n",
      " 384  |  383  |  Luas Lahan yang Dibakar (Ha)  |          7101  |          BOLAANG MONGONDOW  |   2008  |            |         |           |     1413.2  |          |\n",
      " 385  |  384  |  Luas Lahan yang Dibakar (Ha)  |          7102  |                   MINAHASA  |   2008  |            |         |           |        154  |          |\n",
      " 386  |  385  |  Luas Lahan yang Dibakar (Ha)  |          7103  |          KEPULAUAN SANGIHE  |   2008  |            |         |           |      151.6  |          |\n",
      " 387  |  386  |  Luas Lahan yang Dibakar (Ha)  |          7104  |           KEPULAUAN TALAUD  |   2008  |            |         |           |      370.3  |          |\n",
      " 388  |  387  |  Luas Lahan yang Dibakar (Ha)  |          7105  |           MINAHASA SELATAN  |   2008  |            |         |           |      175.5  |          |\n",
      " 389  |  388  |  Luas Lahan yang Dibakar (Ha)  |          7106  |             MINAHASA UTARA  |   2008  |            |         |           |     1006.3  |          |\n",
      "\n",
      "lahandibakarfull.csv summary\n",
      " Count [nilai]  |\n",
      "-----------------\n",
      "           304  |\n",
      "\n",
      "lahandibakarfull.csv summary\n",
      " Sum [nilai]  |\n",
      "---------------\n",
      "   5479717.6  |\n",
      "\n",
      "lahandibakarfull.csv summary\n",
      " Max [nilai]  |\n",
      "---------------\n",
      "   1857348.3  |\n",
      "\n",
      "lahandibakarfull.csv summary\n",
      " Min [nilai]  |\n",
      "---------------\n",
      "         0.3  |\n",
      "\n",
      "lahandibakarfull.csv summary\n",
      " Median [nilai]  |\n",
      "------------------\n",
      "          696.8  |\n",
      "\n",
      "lahandibakarfull.csv summary\n",
      " Std. Deviation [nilai]  |\n",
      "--------------------------\n",
      "       143475.317048432  |\n",
      "\n",
      "lahandibakarfull.csv summary\n",
      "  Variance [nilai]   |\n",
      "----------------------\n",
      " 20585166602.148083  |\n",
      "\n",
      "lahandibakarfull.csv summary\n",
      " Range [nilai]  |\n",
      "-----------------\n",
      "       1857348  |\n",
      "\n",
      "                                                                         lahandibakarfull.csv summary                                                                          \n",
      " Count [nilai]  |  Sum [nilai]  |  Max [nilai]  |  Min [nilai]  |     Mean [nilai]     |  Range [nilai]  |  Median [nilai]  |   Variance [nilai]   |  Std. Deviation [nilai]  |\n",
      "-------------------------------------------------------------------------------------------------------------------------------------------------------------------------------\n",
      "           304  |    5479717.6  |    1857348.3  |          0.3  |  18025.386842105272  |        1857348  |           696.8  |  20585166602.148083  |        143475.317048432  |\n",
      "\n",
      "      Column: nilai       \n",
      " Measure   |    Value    |\n",
      "--------------------------\n",
      "        n  |        389  |\n",
      "      sum  |             |\n",
      "     Mean  |             |\n",
      "      Min  |        0.3  |\n",
      "      Max  |  1857348.3  |\n",
      "    Range  |    1857348  |\n",
      " Variance  |             |\n",
      " Std. Dev  |             |\n",
      "\n"
     ]
    },
    {
     "data": {
      "text/plain": [
       "null"
      ]
     },
     "execution_count": 5,
     "metadata": {},
     "output_type": "execute_result"
    }
   ],
   "source": [
    "//Soal no 2. Analisis Data\n",
    "\n",
    "import static tech.tablesaw.aggregate.AggregateFunctions.*;\n",
    "import tech.tablesaw.api.*;\n",
    "\n",
    "tech.tablesaw.beakerx.TablesawDisplayer.register();\n",
    "Table  dataFull= Table.read().csv(\"datasets/lahandibakarfull.csv\");\n",
    "\n",
    "System.out.println(dataFull.print());\n",
    "System.out.println();\n",
    "\n",
    "//menampilkan jumlah baris yang ada di dataframe pada kolom \"Pendapatan\"\n",
    "System.out.println(dataFull.summarize(\"nilai\", count).apply());\n",
    "System.out.println();\n",
    "\n",
    "//menampilkan jumlah total yang ada di dataframe pada kolom \"Pendapatan\"\n",
    "System.out.println(dataFull.summarize(\"nilai\", sum).apply());\n",
    "System.out.println();\n",
    "\n",
    "//menampilkan data terbesar yang ada di dataframe pada kolom \"Pendapatan\"\n",
    "System.out.println(dataFull.summarize(\"nilai\", max).apply());\n",
    "System.out.println();\n",
    "\n",
    "//menampilkan data terkecil yang ada di dataframe pada kolom \"Pendapatan\"\n",
    "System.out.println(dataFull.summarize(\"nilai\", min).apply());\n",
    "System.out.println();\n",
    "\n",
    "//menampilkan nilai tengah yang ada di dataframe pada kolom \"Pendapatan\"\n",
    "System.out.println(dataFull.summarize(\"nilai\", median).apply());\n",
    "System.out.println();\n",
    "\n",
    "//menampilkan nilai simpangan baku yang ada di dataframe pada kolom \"Pendapatan\"\n",
    "System.out.println(dataFull.summarize(\"nilai\", standardDeviation).apply());\n",
    "System.out.println();\n",
    "\n",
    "//menampilkan nilai variance yang ada di dataframe pada kolom \"Pendapatan\"\n",
    "System.out.println(dataFull.summarize(\"nilai\", variance).apply());\n",
    "System.out.println();\n",
    "\n",
    "//menampilkan sebaran nilai range yang ada di dataframe pada kolom \"Pendapatan\"\n",
    "System.out.println(dataFull.summarize(\"nilai\", range).apply());\n",
    "System.out.println();\n",
    "\n",
    "\n",
    "//menampilkan seluruh summary yang ada di dataframe pada kolom \"Pendapatan\"\n",
    "System.out.println(dataFull.summarize(\"nilai\", count, sum, max, min, mean, range, median, variance, standardDeviation).apply());\n",
    "System.out.println();\n",
    "\n",
    "//menampilkan seluruh summary yang ada di dataframe\n",
    "System.out.println(dataFull.column(\"nilai\").summary().print());\n",
    "System.out.println();"
   ]
  },
  {
   "cell_type": "code",
   "execution_count": 19,
   "metadata": {},
   "outputs": [
    {
     "data": {
      "text/html": [
       "<html></html>"
      ]
     },
     "execution_count": 19,
     "metadata": {},
     "output_type": "execute_result"
    }
   ],
   "source": [
    "%%html"
   ]
  },
  {
   "cell_type": "code",
   "execution_count": 23,
   "metadata": {},
   "outputs": [
    {
     "ename": "ERROR",
     "evalue": " java.lang.NoClassDefFoundError",
     "output_type": "error",
     "traceback": [
      "\u001b[1;31mERROR: java.lang.NoClassDefFoundError: Could not initialize class tech.tablesaw.plotly.components.Layout\u001b[0;0m"
     ]
    }
   ],
   "source": [
    "import tech.tablesaw.api.Table;\n",
    "import tech.tablesaw.plotly.Plot;\n",
    "import tech.tablesaw.plotly.components.Figure;\n",
    "import tech.tablesaw.plotly.components.Layout;\n",
    "import tech.tablesaw.plotly.traces.HistogramTrace;\n",
    "\n",
    "\n",
    "    Table dataFull = Table.read().csv(\"lahandibakarfull.csv\");\n",
    "\n",
    "    Layout layout = Layout.builder().title(\"Nilai Pembakaran Lahan suatu Wilayah\").build();\n",
    "\n",
    "    HistogramTrace trace = HistogramTrace.builder(dataFull.nCol(\"Pendapatan\")).build();\n",
    "\n",
    "    Plot.show(new Figure(layout, trace));"
   ]
  },
  {
   "cell_type": "code",
   "execution_count": null,
   "metadata": {},
   "outputs": [],
   "source": []
  }
 ],
 "metadata": {
  "kernelspec": {
   "display_name": "Java",
   "language": "java",
   "name": "java"
  },
  "language_info": {
   "codemirror_mode": "text/x-java",
   "file_extension": ".java",
   "mimetype": "",
   "name": "Java",
   "nbconverter_exporter": "",
   "version": "1.8.0_121"
  },
  "toc": {
   "base_numbering": 1,
   "nav_menu": {},
   "number_sections": false,
   "sideBar": false,
   "skip_h1_title": false,
   "title_cell": "Table of Contents",
   "title_sidebar": "Contents",
   "toc_cell": false,
   "toc_position": {},
   "toc_section_display": false,
   "toc_window_display": false
  }
 },
 "nbformat": 4,
 "nbformat_minor": 2
}
