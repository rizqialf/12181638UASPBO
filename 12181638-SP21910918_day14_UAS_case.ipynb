{
 "cells": [
  {
   "cell_type": "code",
   "execution_count": 2,
   "metadata": {},
   "outputs": [
    {
     "data": {
      "application/vnd.jupyter.widget-view+json": {
       "model_id": "",
       "version_major": 2,
       "version_minor": 0
      },
      "method": "display_data"
     },
     "metadata": {},
     "output_type": "display_data"
    },
    {
     "data": {
      "application/vnd.jupyter.widget-view+json": {
       "model_id": "a97c1ce4-179c-4e56-ab50-71363c15a871",
       "version_major": 2,
       "version_minor": 0
      },
      "method": "display_data"
     },
     "metadata": {},
     "output_type": "display_data"
    }
   ],
   "source": [
    "%%classpath add mvn\n",
    "tech.tablesaw tablesaw-beakerx 0.35.0\n",
    "com.jimmoores quandl-tablesaw 2.0.0\n",
    "com.github.haifengl smile-core 1.5.2\n",
    "tech.tablesaw tablesaw-excel 0.35.0\n",
    "tech.tablesaw tablesaw-json 0.35.0\n",
    "org.xerial sqlite-jdbc 3.28.0\n",
    "org.jsoup jsoup 1.11.3"
   ]
  },
  {
   "cell_type": "code",
   "execution_count": 3,
   "metadata": {},
   "outputs": [
    {
     "data": {
      "text/plain": [
       "null"
      ]
     },
     "execution_count": 3,
     "metadata": {},
     "output_type": "execute_result"
    }
   ],
   "source": [
    "%import static tech.tablesaw.aggregate.AggregateFunctions.*\n",
    "%import tech.tablesaw.api.*\n",
    "%import tech.tablesaw.columns.*\n",
    "%import smile.clustering.*\n",
    "%import smile.regression.*\n",
    "\n",
    "tech.tablesaw.beakerx.TablesawDisplayer.register();"
   ]
  },
  {
   "cell_type": "code",
   "execution_count": 1,
   "metadata": {
    "scrolled": true
   },
   "outputs": [
    {
     "ename": "package tech.tablesaw.aggregate does not exist",
     "evalue": "package tech.tablesaw.aggregate does not exist",
     "output_type": "error",
     "traceback": [
      "\u001b[1;31mpackage tech.tablesaw.aggregate does not exist\u001b[0;0m",
      "\u001b[1;31m import static tech.tablesaw.aggregate.AggregateFunctions.*\u001b[0;0m",
      "\u001b[1;31m               ^                                         ^   \u001b[0;0m",
      "\u001b[1;31m\u001b[0;0m",
      "\u001b[1;31mpackage tech.tablesaw.api does not exist\u001b[0;0m",
      "\u001b[1;31m import tech.tablesaw.api.*\u001b[0;0m",
      "\u001b[1;31m ^                          \u001b[0;0m",
      "\u001b[1;31m\u001b[0;0m",
      "\u001b[1;31mpackage tech.tablesaw.io.xlsx does not exist\u001b[0;0m",
      "\u001b[1;31m import tech.tablesaw.io.xlsx.*\u001b[0;0m",
      "\u001b[1;31m ^                              \u001b[0;0m",
      "\u001b[1;31m\u001b[0;0m",
      "\u001b[1;31mpackage tech.tablesaw.beakerx does not exist\u001b[0;0m",
      "\u001b[1;31m tech.tablesaw.beakerx.TablesawDisplayer.register()\u001b[0;0m",
      "\u001b[1;31m ^                                      ^            \u001b[0;0m",
      "\u001b[1;31m\u001b[0;0m",
      "\u001b[1;31mcannot find symbol\u001b[0;0m",
      "\u001b[1;31m  symbol:   class XlsxReader\u001b[0;0m",
      "\u001b[0;31m  location: class com.twosigma.beaker.javash.bkr6ebd069e.BeakerWrapperClass1261714175Id265f7963d3db4c95bb4b0d5d990bae60\u001b[0;0m",
      "\u001b[0;31m XlsxReader reader = new XlsxReader()\u001b[0;0m",
      "\u001b[0;31m ^         ^                           \u001b[0;0m",
      "\u001b[0;31m\u001b[0;0m",
      "\u001b[0;31mcannot find symbol\u001b[0;0m",
      "\u001b[0;31m  symbol:   class XlsxReader\u001b[0;0m",
      "\u001b[0;31m  location: class com.twosigma.beaker.javash.bkr6ebd069e.BeakerWrapperClass1261714175Id265f7963d3db4c95bb4b0d5d990bae60\u001b[0;0m",
      "\u001b[0;31m XlsxReader reader = new XlsxReader()\u001b[0;0m",
      "\u001b[0;31m                         ^         ^   \u001b[0;0m",
      "\u001b[0;31m\u001b[0;0m",
      "\u001b[0;31mcannot find symbol\u001b[0;0m",
      "\u001b[0;31m  symbol:   class Table\u001b[0;0m",
      "\u001b[0;31m  location: class com.twosigma.beaker.javash.bkr6ebd069e.BeakerWrapperClass1261714175Id265f7963d3db4c95bb4b0d5d990bae60\u001b[0;0m",
      "\u001b[0;31m Table data2 = Table.read().csv(\"121\u001b[0;0m",
      "\u001b[0;31m ^    ^                               \u001b[0;0m",
      "\u001b[0;31m\u001b[0;0m",
      "\u001b[0;31mcannot find symbol\u001b[0;0m",
      "\u001b[0;31m  symbol:   variable Table\u001b[0;0m",
      "\u001b[0;31m  location: class com.twosigma.beaker.javash.bkr6ebd069e.BeakerWrapperClass1261714175Id265f7963d3db4c95bb4b0d5d990bae60\u001b[0;0m",
      "\u001b[0;31m Table data2 = Table.read().csv(\"12181638/12181638\u001b[0;0m",
      "\u001b[0;31m               ^    ^                               \u001b[0;0m",
      "\u001b[0;31m\u001b[0;0m",
      "\u001b[0;31mcannot find symbol\u001b[0;0m",
      "\u001b[0;31m  symbol:   class XlsxReadOptions\u001b[0;0m",
      "\u001b[0;31m  location: class com.twosigma.beaker.javash.bkr6ebd069e.BeakerWrapperClass1261714175Id265f7963d3db4c95bb4b0d5d990bae60\u001b[0;0m",
      "\u001b[0;31m XlsxReadOptions file1 = XlsxReadOptions.build\u001b[0;0m",
      "\u001b[0;31m ^              ^                               \u001b[0;0m",
      "\u001b[0;31m\u001b[0;0m",
      "\u001b[0;31mcannot find symbol\u001b[0;0m",
      "\u001b[0;31m  symbol:   variable XlsxReadOptions\u001b[0;0m",
      "\u001b[0;31m  location: class com.twosigma.beaker.javash.bkr6ebd069e.BeakerWrapperClass1261714175Id265f7963d3db4c95bb4b0d5d990bae60\u001b[0;0m",
      "\u001b[0;31m XlsxReadOptions file1 = XlsxReadOptions.builder(\"12181638/12181638.xl\u001b[0;0m",
      "\u001b[0;31m                         ^              ^                               \u001b[0;0m",
      "\u001b[0;31m\u001b[0;0m",
      "\u001b[0;31mcannot find symbol\u001b[0;0m",
      "\u001b[0;31m  symbol:   class Table\u001b[0;0m",
      "\u001b[0;31m  location: class com.twosigma.beaker.javash.bkr6ebd069e.BeakerWrapperClass1261714175Id265f7963d3db4c95bb4b0d5d990bae60\u001b[0;0m",
      "\u001b[0;31m Table data1 = reader.read(file1)\u001b[0;0m",
      "\u001b[0;31m ^    ^                            \u001b[0;0m",
      "\u001b[0;31m\u001b[0;0m",
      "\u001b[0;31mcannot find symbol\u001b[0;0m",
      "\u001b[0;31m  symbol:   class Table\u001b[0;0m",
      "\u001b[0;31m  location: class com.twosigma.beaker.javash.bkr6ebd069e.BeakerWrapperClass1261714175Id265f7963d3db4c95bb4b0d5d990bae60\u001b[0;0m",
      "\u001b[0;31m Table datagabung = data1.append(dat\u001b[0;0m",
      "\u001b[0;31m ^    ^                               \u001b[0;0m",
      "\u001b[0;31m\u001b[0;0m",
      "\u001b[0;31mcannot find symbol\u001b[0;0m",
      "\u001b[0;31m  symbol:   variable count\u001b[0;0m",
      "\u001b[0;31m  location: class com.twosigma.beaker.javash.bkr6ebd069e.BeakerWrapperClass1261714175Id265f7963d3db4c95bb4b0d5d990bae60\u001b[0;0m",
      "\u001b[0;31m(datagabung.summarize(\"nilai\", count, sum, max, min, mean, range, \u001b[0;0m",
      "\u001b[0;31m                               ^    ^                               \u001b[0;0m",
      "\u001b[0;31m\u001b[0;0m",
      "\u001b[0;31mcannot find symbol\u001b[0;0m",
      "\u001b[0;31m  symbol:   variable sum\u001b[0;0m",
      "\u001b[0;31m  location: class com.twosigma.beaker.javash.bkr6ebd069e.BeakerWrapperClass1261714175Id265f7963d3db4c95bb4b0d5d990bae60\u001b[0;0m",
      "\u001b[0;31mbung.summarize(\"nilai\", count, sum, max, min, mean, range, media\u001b[0;0m",
      "\u001b[0;31m                               ^  ^                               \u001b[0;0m",
      "\u001b[0;31m\u001b[0;0m",
      "\u001b[0;31mcannot find symbol\u001b[0;0m",
      "\u001b[0;31m  symbol:   variable max\u001b[0;0m",
      "\u001b[0;31m  location: class com.twosigma.beaker.javash.bkr6ebd069e.BeakerWrapperClass1261714175Id265f7963d3db4c95bb4b0d5d990bae60\u001b[0;0m",
      "\u001b[0;31msummarize(\"nilai\", count, sum, max, min, mean, range, median, va\u001b[0;0m",
      "\u001b[0;31m                               ^  ^                               \u001b[0;0m",
      "\u001b[0;31m\u001b[0;0m",
      "\u001b[0;31mcannot find symbol\u001b[0;0m",
      "\u001b[0;31m  symbol:   variable min\u001b[0;0m",
      "\u001b[0;31m  location: class com.twosigma.beaker.javash.bkr6ebd069e.BeakerWrapperClass1261714175Id265f7963d3db4c95bb4b0d5d990bae60\u001b[0;0m",
      "\u001b[0;31mrize(\"nilai\", count, sum, max, min, mean, range, median, varianc\u001b[0;0m",
      "\u001b[0;31m                               ^  ^                               \u001b[0;0m",
      "\u001b[0;31m\u001b[0;0m",
      "\u001b[0;31mcannot find symbol\u001b[0;0m",
      "\u001b[0;31m  symbol:   variable mean\u001b[0;0m",
      "\u001b[0;31m  location: class com.twosigma.beaker.javash.bkr6ebd069e.BeakerWrapperClass1261714175Id265f7963d3db4c95bb4b0d5d990bae60\u001b[0;0m",
      "\u001b[0;31m\"nilai\", count, sum, max, min, mean, range, median, variance, sta\u001b[0;0m",
      "\u001b[0;31m                               ^   ^                               \u001b[0;0m",
      "\u001b[0;31m\u001b[0;0m",
      "\u001b[0;31mcannot find symbol\u001b[0;0m",
      "\u001b[0;31m  symbol:   variable range\u001b[0;0m",
      "\u001b[0;31m  location: class com.twosigma.beaker.javash.bkr6ebd069e.BeakerWrapperClass1261714175Id265f7963d3db4c95bb4b0d5d990bae60\u001b[0;0m",
      "\u001b[0;31m\", count, sum, max, min, mean, range, median, variance, standardDe\u001b[0;0m",
      "\u001b[0;31m                               ^    ^                               \u001b[0;0m",
      "\u001b[0;31m\u001b[0;0m",
      "\u001b[0;31mcannot find symbol\u001b[0;0m",
      "\u001b[0;31m  symbol:   variable median\u001b[0;0m",
      "\u001b[0;31m  location: class com.twosigma.beaker.javash.bkr6ebd069e.BeakerWrapperClass1261714175Id265f7963d3db4c95bb4b0d5d990bae60\u001b[0;0m",
      "\u001b[0;31mt, sum, max, min, mean, range, median, variance, standardDeviation)\u001b[0;0m",
      "\u001b[0;31m                               ^     ^                               \u001b[0;0m",
      "\u001b[0;31m\u001b[0;0m",
      "\u001b[0;31mcannot find symbol\u001b[0;0m",
      "\u001b[0;31m  symbol:   variable variance\u001b[0;0m",
      "\u001b[0;31m  location: class com.twosigma.beaker.javash.bkr6ebd069e.BeakerWrapperClass1261714175Id265f7963d3db4c95bb4b0d5d990bae60\u001b[0;0m",
      "\u001b[0;31mmax, min, mean, range, median, variance, standardDeviation).apply())\u001b[0;0m",
      "\u001b[0;31m                               ^       ^                              \u001b[0;0m",
      "\u001b[0;31m\u001b[0;0m",
      "\u001b[0;31mcannot find symbol\u001b[0;0m",
      "\u001b[0;31m  symbol:   variable standardDeviation\u001b[0;0m",
      "\u001b[0;31m  location: class com.twosigma.beaker.javash.bkr6ebd069e.BeakerWrapperClass1261714175Id265f7963d3db4c95bb4b0d5d990bae60\u001b[0;0m",
      "\u001b[0;31mmean, range, median, variance, standardDeviation).apply())\u001b[0;0m",
      "\u001b[0;31m                               ^                ^           \u001b[0;0m"
     ]
    }
   ],
   "source": [
    "import static tech.tablesaw.aggregate.AggregateFunctions.*;\n",
    "\n",
    "import tech.tablesaw.api.*;\n",
    "import tech.tablesaw.io.xlsx.*;\n",
    "\n",
    "tech.tablesaw.beakerx.TablesawDisplayer.register();\n",
    "\n",
    "XlsxReader reader = new XlsxReader();\n",
    "\n",
    "Table data2 = Table.read().csv(\"12181638/12181638.csv\");\n",
    "\n",
    "XlsxReadOptions file1 = XlsxReadOptions.builder(\"12181638/12181638.xlsx\").build();\n",
    "\n",
    "Table data1 = reader.read(file1);\n",
    "\n",
    "Table datagabung = data1.append(data2);\n",
    "\n",
    "System.out.println(datagabung.print()); \n",
    "\n",
    "System.out.println(datagabung.summarize(\"nilai\", count, sum, max, min, mean, range, median, variance, standardDeviation).apply());"
   ]
  },
  {
   "cell_type": "code",
   "execution_count": null,
   "metadata": {},
   "outputs": [],
   "source": [
    "1. ada 116 data\n",
    "2. total nilai 58721000000\n",
    "3. max nilai 10320000000\n",
    "4. min nilai 1000000\n",
    "5. rata-rata mean 506215517.2413792\n",
    "6. Nilai tengah dari nilai yaitu 176500000\n",
    "7. Nilai variasi yaitu  1435347735757121020\n",
    "8. Nilai dari standar deviasi yaitu 1198059988.3800147 "
   ]
  },
  {
   "cell_type": "code",
   "execution_count": null,
   "metadata": {},
   "outputs": [],
   "source": [
    "\n",
    "import static tech.tablesaw.aggregate.AggregateFunctions.*;\n",
    "\n",
    "import tech.tablesaw.api.*;\n",
    "import tech.tablesaw.io.xlsx.*;\n",
    "\n",
    "tech.tablesaw.beakerx.TablesawDisplayer.register();\n",
    "\n",
    "XlsxReader reader = new XlsxReader();\n",
    "\n",
    "Table data2 = Table.read().csv(\"12181638/12181638.csv\");\n",
    "\n",
    "XlsxReadOptions file1 = XlsxReadOptions.builder(\"12181638/12181638.xlsx\").build();\n",
    "\n",
    "Table data1 = reader.read(file1);\n",
    "\n",
    "Table datagabung = data2.append(data1);"
   ]
  }
 ],
 "metadata": {
  "kernelspec": {
   "display_name": "Java",
   "language": "java",
   "name": "java"
  },
  "language_info": {
   "codemirror_mode": "text/x-java",
   "file_extension": ".java",
   "mimetype": "",
   "name": "Java",
   "nbconverter_exporter": "",
   "version": "1.8.0_121"
  },
  "toc": {
   "base_numbering": 1,
   "nav_menu": {},
   "number_sections": false,
   "sideBar": false,
   "skip_h1_title": false,
   "title_cell": "Table of Contents",
   "title_sidebar": "Contents",
   "toc_cell": false,
   "toc_position": {},
   "toc_section_display": false,
   "toc_window_display": false
  }
 },
 "nbformat": 4,
 "nbformat_minor": 2
}
